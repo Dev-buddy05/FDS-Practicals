{
 "cells": [
  {
   "cell_type": "code",
   "execution_count": 1,
   "metadata": {},
   "outputs": [
    {
     "name": "stdout",
     "output_type": "stream",
     "text": [
      "Probability of getting 3 when a die is rolled is: 0.16666666666666666\n"
     ]
    }
   ],
   "source": [
    "#probability of getting 3 when a die is rolled\n",
    "ns = 6  #sample space, n(S)={1,2,3,4,5,6}\n",
    "na = 1  #preferred outcomes, n(A)={3} \n",
    "pa = na/ns\n",
    "print(\"Probability of getting 3 when a die is rolled is:\",pa)"
   ]
  },
  {
   "cell_type": "code",
   "execution_count": 3,
   "metadata": {},
   "outputs": [
    {
     "name": "stdout",
     "output_type": "stream",
     "text": [
      "probability of getting atleast one head is: 0.875\n"
     ]
    }
   ],
   "source": [
    "#Probability of getting atleast 1 head when a coin is tossed thrice\n",
    "ns=8 #n(S)={HHH,HHT,HTH,THH,HTT,THT,TTH,TTT}\n",
    "na=7\n",
    "pa=na/ns\n",
    "print(\"probability of getting atleast one head when a coin is tossed thrice is:\",pa)"
   ]
  },
  {
   "cell_type": "code",
   "execution_count": 5,
   "metadata": {},
   "outputs": [
    {
     "name": "stdout",
     "output_type": "stream",
     "text": [
      "Probability of getting jelly bean that is not blue is: 0.7\n"
     ]
    }
   ],
   "source": [
    "#A glass jar contains 5 red, 3 blue and 2 green jelly beans.\n",
    "#IF a jelly bean is choosen at random from the jar,\n",
    "#what is the probability that it is not blue?\n",
    "ns=10 #S={R,R,R,R,R,B,B,B,G,G}\n",
    "na=7 \n",
    "pa=na/ns\n",
    "print(\"Probability of getting jelly bean that is not blue is:\",pa)"
   ]
  },
  {
   "cell_type": "code",
   "execution_count": 7,
   "metadata": {},
   "outputs": [
    {
     "name": "stdout",
     "output_type": "stream",
     "text": [
      "Proabability that they both will be alive after 20 years is: 0.35\n"
     ]
    }
   ],
   "source": [
    "#If the probability that person A will be alive in 20 years is 0.7 and the\n",
    "#probability that person B will be alive in 20 years is 0.5, \n",
    "#what is the probability that they will both be alive in 20 yrs?\n",
    "#These are independent event so\n",
    "pa=0.7*0.5\n",
    "print(\"Proabability that they both will be alive after 20 years is:\",pa)"
   ]
  },
  {
   "cell_type": "code",
   "execution_count": 8,
   "metadata": {},
   "outputs": [],
   "source": [
    "def event_probability(n,s):\n",
    "    return n/s"
   ]
  },
  {
   "cell_type": "code",
   "execution_count": 9,
   "metadata": {},
   "outputs": [
    {
     "name": "stdout",
     "output_type": "stream",
     "text": [
      "Probability of getting a 4 or 5 on the first toss and a 1,2 or 3 in the second toss is: 0.16666666666666666\n"
     ]
    }
   ],
   "source": [
    "#A fair die is tossed twice. Find the probability of getting a 4 or 5 on the first toss\n",
    "#and a 1,2 or 3 in the second toss.\n",
    "pa=event_probability(2,6) #probability of getting 4 or 5 on first toss\n",
    "pb=event_probability(3,6)#probability of getting 1,2 or 3 in the second toss\n",
    "p=pa*pb \n",
    "print(\"Probability of getting a 4 or 5 on the first toss and a 1,2 or 3 in the second toss is:\",p)"
   ]
  },
  {
   "cell_type": "code",
   "execution_count": 13,
   "metadata": {},
   "outputs": [
    {
     "name": "stdout",
     "output_type": "stream",
     "text": [
      "Probability of obtaining white, black and green in that order is: 0.041666666666666664\n"
     ]
    }
   ],
   "source": [
    "#A bag contains 5 white marbles, 3 black marbles and 2 green marbles.\n",
    "#In each draw, a marble is drawn from the bag and not replaced. In three draws, find the probability of \n",
    "#obtaining white, black and green in that order.\n",
    "pa=event_probability(5,10)\n",
    "pb=event_probability(3,9)\n",
    "pc=event_probability(2,8)\n",
    "p=pa*pb*pc\n",
    "print(\"Probability of obtaining white, black and green in that order is:\",p)"
   ]
  },
  {
   "cell_type": "code",
   "execution_count": 14,
   "metadata": {},
   "outputs": [
    {
     "name": "stdout",
     "output_type": "stream",
     "text": [
      "Probability of drawing the heart or a club is: 0.5\n"
     ]
    }
   ],
   "source": [
    "#Sample space\n",
    "cards = 52\n",
    "#Calculat6e the probability of drawing the heart or a club\n",
    "hearts=13\n",
    "club=13\n",
    "heart_or_club= event_probability(hearts,+)+event_probability(club,cards)\n",
    "print(\"Probability of drawing the heart or a club is:\",hearts_or_club)"
   ]
  },
  {
   "cell_type": "code",
   "execution_count": 16,
   "metadata": {},
   "outputs": [
    {
     "name": "stdout",
     "output_type": "stream",
     "text": [
      "Probability of drawing an ace, queen or king is: 0.23076923076923078\n"
     ]
    }
   ],
   "source": [
    "#Calculate the probability of drawing an ace, queen or king\n",
    "cards = 52   #sample space\n",
    "ace = 4\n",
    "queen = 4\n",
    "king = 4\n",
    "ace_queen_or_king = event_probability(ace,cards) + event_probability(queen,cards) + event_probability(king,cards)\n",
    "print(\"Probability of drawing an ace, queen or king is:\",ace_queen_or_king)"
   ]
  },
  {
   "cell_type": "code",
   "execution_count": 23,
   "metadata": {},
   "outputs": [
    {
     "name": "stdout",
     "output_type": "stream",
     "text": [
      "Probability of drawing a heart or an ace is: 0.31\n"
     ]
    }
   ],
   "source": [
    "#Calculate the probability of drawing an heart or an ace\n",
    "cards=52 #sample space\n",
    "ace=4\n",
    "heart=13\n",
    "ace_of_hearts=1\n",
    "heart_or_ace=event_probability(heart,cards)+event_probability(ace,cards)-event_probability(ace_of_hearts,cards)\n",
    "print(\"Probability of drawing a heart or an ace is:\",round(heart_or_ace,2))"
   ]
  },
  {
   "cell_type": "code",
   "execution_count": 24,
   "metadata": {},
   "outputs": [
    {
     "name": "stdout",
     "output_type": "stream",
     "text": [
      "Probability of drawing an red card or face card is: 0.62\n"
     ]
    }
   ],
   "source": [
    "#Calculate the probability of drawing red card or face cards\n",
    "cards = 52\n",
    "red = 26\n",
    "face_cards = 12\n",
    "red_face_cards = 6\n",
    "red_card_or_face_card = event_probability(red,cards) + event_probability(face_cards,cards) - event_probability(red_face_cards,cards) \n",
    "print(\"Probability of drawing an red card or face card is:\",round(red_card_or_face_card, 2))"
   ]
  },
  {
   "cell_type": "code",
   "execution_count": 26,
   "metadata": {},
   "outputs": [
    {
     "name": "stdout",
     "output_type": "stream",
     "text": [
      "Probability of not getting 5 is 0.83\n"
     ]
    }
   ],
   "source": [
    "#probability of not getting 5 when a die is rolled\n",
    "ns=6\n",
    "na=1\n",
    "pa=(na/ns)\n",
    "print(\"Probability of not getting 5 is\",round(1-pa,2))"
   ]
  },
  {
   "cell_type": "code",
   "execution_count": 27,
   "metadata": {},
   "outputs": [
    {
     "name": "stdout",
     "output_type": "stream",
     "text": [
      "Probability of winning 0.0784\n"
     ]
    }
   ],
   "source": [
    "#Suppose you draw 2 cards from deck.\n",
    "#You win if if you get ace given that you draw a jack in first draw.\n",
    "cards = 52   #Sample Space\n",
    "jack = 4   #Jack\n",
    "ace = 4\n",
    "pj = event_probability(jack,cards)\n",
    "pa = event_probability(ace,51)\n",
    "pa_given_j = (pj * pa) / pj\n",
    "print(\"Probability of winning\",round(pa_given_j,4))"
   ]
  },
  {
   "cell_type": "markdown",
   "metadata": {},
   "source": [
    "# Conditional Probability"
   ]
  },
  {
   "cell_type": "code",
   "execution_count": 29,
   "metadata": {},
   "outputs": [
    {
     "data": {
      "text/html": [
       "<div>\n",
       "<style scoped>\n",
       "    .dataframe tbody tr th:only-of-type {\n",
       "        vertical-align: middle;\n",
       "    }\n",
       "\n",
       "    .dataframe tbody tr th {\n",
       "        vertical-align: top;\n",
       "    }\n",
       "\n",
       "    .dataframe thead th {\n",
       "        text-align: right;\n",
       "    }\n",
       "</style>\n",
       "<table border=\"1\" class=\"dataframe\">\n",
       "  <thead>\n",
       "    <tr style=\"text-align: right;\">\n",
       "      <th></th>\n",
       "      <th>school</th>\n",
       "      <th>sex</th>\n",
       "      <th>age</th>\n",
       "      <th>address</th>\n",
       "      <th>famsize</th>\n",
       "      <th>Pstatus</th>\n",
       "      <th>Medu</th>\n",
       "      <th>Fedu</th>\n",
       "      <th>Mjob</th>\n",
       "      <th>Fjob</th>\n",
       "      <th>...</th>\n",
       "      <th>famrel</th>\n",
       "      <th>freetime</th>\n",
       "      <th>goout</th>\n",
       "      <th>Dalc</th>\n",
       "      <th>Walc</th>\n",
       "      <th>health</th>\n",
       "      <th>absences</th>\n",
       "      <th>G1</th>\n",
       "      <th>G2</th>\n",
       "      <th>G3</th>\n",
       "    </tr>\n",
       "  </thead>\n",
       "  <tbody>\n",
       "    <tr>\n",
       "      <th>0</th>\n",
       "      <td>GP</td>\n",
       "      <td>F</td>\n",
       "      <td>18</td>\n",
       "      <td>U</td>\n",
       "      <td>GT3</td>\n",
       "      <td>A</td>\n",
       "      <td>4</td>\n",
       "      <td>4</td>\n",
       "      <td>at_home</td>\n",
       "      <td>teacher</td>\n",
       "      <td>...</td>\n",
       "      <td>4</td>\n",
       "      <td>3</td>\n",
       "      <td>4</td>\n",
       "      <td>1</td>\n",
       "      <td>1</td>\n",
       "      <td>3</td>\n",
       "      <td>6</td>\n",
       "      <td>5</td>\n",
       "      <td>6</td>\n",
       "      <td>6</td>\n",
       "    </tr>\n",
       "    <tr>\n",
       "      <th>1</th>\n",
       "      <td>GP</td>\n",
       "      <td>F</td>\n",
       "      <td>17</td>\n",
       "      <td>U</td>\n",
       "      <td>GT3</td>\n",
       "      <td>T</td>\n",
       "      <td>1</td>\n",
       "      <td>1</td>\n",
       "      <td>at_home</td>\n",
       "      <td>other</td>\n",
       "      <td>...</td>\n",
       "      <td>5</td>\n",
       "      <td>3</td>\n",
       "      <td>3</td>\n",
       "      <td>1</td>\n",
       "      <td>1</td>\n",
       "      <td>3</td>\n",
       "      <td>4</td>\n",
       "      <td>5</td>\n",
       "      <td>5</td>\n",
       "      <td>6</td>\n",
       "    </tr>\n",
       "    <tr>\n",
       "      <th>2</th>\n",
       "      <td>GP</td>\n",
       "      <td>F</td>\n",
       "      <td>15</td>\n",
       "      <td>U</td>\n",
       "      <td>LE3</td>\n",
       "      <td>T</td>\n",
       "      <td>1</td>\n",
       "      <td>1</td>\n",
       "      <td>at_home</td>\n",
       "      <td>other</td>\n",
       "      <td>...</td>\n",
       "      <td>4</td>\n",
       "      <td>3</td>\n",
       "      <td>2</td>\n",
       "      <td>2</td>\n",
       "      <td>3</td>\n",
       "      <td>3</td>\n",
       "      <td>10</td>\n",
       "      <td>7</td>\n",
       "      <td>8</td>\n",
       "      <td>10</td>\n",
       "    </tr>\n",
       "  </tbody>\n",
       "</table>\n",
       "<p>3 rows × 33 columns</p>\n",
       "</div>"
      ],
      "text/plain": [
       "  school sex  age address famsize Pstatus  Medu  Fedu     Mjob     Fjob  ...  \\\n",
       "0     GP   F   18       U     GT3       A     4     4  at_home  teacher  ...   \n",
       "1     GP   F   17       U     GT3       T     1     1  at_home    other  ...   \n",
       "2     GP   F   15       U     LE3       T     1     1  at_home    other  ...   \n",
       "\n",
       "  famrel freetime  goout  Dalc  Walc health absences G1 G2  G3  \n",
       "0      4        3      4     1     1      3        6  5  6   6  \n",
       "1      5        3      3     1     1      3        4  5  5   6  \n",
       "2      4        3      2     2     3      3       10  7  8  10  \n",
       "\n",
       "[3 rows x 33 columns]"
      ]
     },
     "execution_count": 29,
     "metadata": {},
     "output_type": "execute_result"
    }
   ],
   "source": [
    "import pandas as pd\n",
    "import numpy as np\n",
    "df = pd.read_csv(\"student-mat[1].csv\")\n",
    "df.head(3)"
   ]
  },
  {
   "cell_type": "code",
   "execution_count": 30,
   "metadata": {},
   "outputs": [
    {
     "data": {
      "text/plain": [
       "395"
      ]
     },
     "execution_count": 30,
     "metadata": {},
     "output_type": "execute_result"
    }
   ],
   "source": [
    "len(df)"
   ]
  },
  {
   "cell_type": "code",
   "execution_count": 36,
   "metadata": {},
   "outputs": [],
   "source": [
    "df[\"grade_A\"] = np.where(df[\"G3\"]*5 >= 80, 1, 0)"
   ]
  },
  {
   "cell_type": "code",
   "execution_count": 35,
   "metadata": {},
   "outputs": [],
   "source": [
    "df[\"high_absences\"] = np.where(df[\"absences\"] >= 10, 1, 0)"
   ]
  },
  {
   "cell_type": "code",
   "execution_count": 37,
   "metadata": {},
   "outputs": [],
   "source": [
    "df[\"count\"] = 1"
   ]
  },
  {
   "cell_type": "code",
   "execution_count": 38,
   "metadata": {},
   "outputs": [
    {
     "data": {
      "text/html": [
       "<div>\n",
       "<style scoped>\n",
       "    .dataframe tbody tr th:only-of-type {\n",
       "        vertical-align: middle;\n",
       "    }\n",
       "\n",
       "    .dataframe tbody tr th {\n",
       "        vertical-align: top;\n",
       "    }\n",
       "\n",
       "    .dataframe thead th {\n",
       "        text-align: right;\n",
       "    }\n",
       "</style>\n",
       "<table border=\"1\" class=\"dataframe\">\n",
       "  <thead>\n",
       "    <tr style=\"text-align: right;\">\n",
       "      <th></th>\n",
       "      <th>grade_A</th>\n",
       "      <th>high_absences</th>\n",
       "      <th>count</th>\n",
       "    </tr>\n",
       "  </thead>\n",
       "  <tbody>\n",
       "    <tr>\n",
       "      <th>0</th>\n",
       "      <td>0</td>\n",
       "      <td>0</td>\n",
       "      <td>1</td>\n",
       "    </tr>\n",
       "    <tr>\n",
       "      <th>1</th>\n",
       "      <td>0</td>\n",
       "      <td>0</td>\n",
       "      <td>1</td>\n",
       "    </tr>\n",
       "    <tr>\n",
       "      <th>2</th>\n",
       "      <td>0</td>\n",
       "      <td>1</td>\n",
       "      <td>1</td>\n",
       "    </tr>\n",
       "    <tr>\n",
       "      <th>3</th>\n",
       "      <td>0</td>\n",
       "      <td>0</td>\n",
       "      <td>1</td>\n",
       "    </tr>\n",
       "    <tr>\n",
       "      <th>4</th>\n",
       "      <td>0</td>\n",
       "      <td>0</td>\n",
       "      <td>1</td>\n",
       "    </tr>\n",
       "  </tbody>\n",
       "</table>\n",
       "</div>"
      ],
      "text/plain": [
       "   grade_A  high_absences  count\n",
       "0        0              0      1\n",
       "1        0              0      1\n",
       "2        0              1      1\n",
       "3        0              0      1\n",
       "4        0              0      1"
      ]
     },
     "execution_count": 38,
     "metadata": {},
     "output_type": "execute_result"
    }
   ],
   "source": [
    "df = df[[\"grade_A\", \"high_absences\", \"count\"]]\n",
    "df.head()"
   ]
  },
  {
   "cell_type": "code",
   "execution_count": 39,
   "metadata": {},
   "outputs": [
    {
     "name": "stdout",
     "output_type": "stream",
     "text": [
      "high_absences    0   1\n",
      "grade_A               \n",
      "0              277  78\n",
      "1               35   5\n"
     ]
    }
   ],
   "source": [
    "final = pd.pivot_table(\n",
    "    df,\n",
    "    values = \"count\",\n",
    "    index = [\"grade_A\"],\n",
    "    columns = [\"high_absences\"],\n",
    "    aggfunc = np.size,\n",
    "    fill_value = 0\n",
    ")\n",
    "print(final)"
   ]
  },
  {
   "cell_type": "code",
   "execution_count": 40,
   "metadata": {},
   "outputs": [
    {
     "data": {
      "text/plain": [
       "35"
      ]
     },
     "execution_count": 40,
     "metadata": {},
     "output_type": "execute_result"
    }
   ],
   "source": [
    "a = (final.iloc[1,0])\n",
    "a"
   ]
  },
  {
   "cell_type": "code",
   "execution_count": 41,
   "metadata": {},
   "outputs": [
    {
     "data": {
      "text/plain": [
       "0.10126582278481013"
      ]
     },
     "execution_count": 41,
     "metadata": {},
     "output_type": "execute_result"
    }
   ],
   "source": [
    "pa = (final.iloc[1,0] + final.iloc[1,1]) / (final.iloc[0,0] + final.iloc[0,1] + final.iloc[1,0] + final.iloc[1,1])\n",
    "pa"
   ]
  },
  {
   "cell_type": "code",
   "execution_count": 42,
   "metadata": {},
   "outputs": [
    {
     "data": {
      "text/plain": [
       "0.21012658227848102"
      ]
     },
     "execution_count": 42,
     "metadata": {},
     "output_type": "execute_result"
    }
   ],
   "source": [
    "pb = (final.iloc[0,1] + final.iloc[1,1]) / (final.iloc[0,0] + final.iloc[0,1] + final.iloc[1,0] + final.iloc[1,1])\n",
    "pb"
   ]
  },
  {
   "cell_type": "code",
   "execution_count": 43,
   "metadata": {},
   "outputs": [
    {
     "data": {
      "text/plain": [
       "0.012658227848101266"
      ]
     },
     "execution_count": 43,
     "metadata": {},
     "output_type": "execute_result"
    }
   ],
   "source": [
    "pa_or_pb = (final.iloc[1,1]) / (final.iloc[0,0] + final.iloc[0,1] + final.iloc[1,0] + final.iloc[1,1])\n",
    "pa_or_pb"
   ]
  },
  {
   "cell_type": "code",
   "execution_count": 44,
   "metadata": {},
   "outputs": [
    {
     "data": {
      "text/plain": [
       "0.060240963855421686"
      ]
     },
     "execution_count": 44,
     "metadata": {},
     "output_type": "execute_result"
    }
   ],
   "source": [
    "a_given_b = pa_or_pb / pb\n",
    "a_given_b"
   ]
  },
  {
   "cell_type": "code",
   "execution_count": 46,
   "metadata": {},
   "outputs": [
    {
     "name": "stdout",
     "output_type": "stream",
     "text": [
      "The probability of student getting at least an 80% final grade... is 0.06\n"
     ]
    }
   ],
   "source": [
    "print(\"The probability of student getting at least an 80% final grade... is\", round(a_given_b,2))"
   ]
  },
  {
   "cell_type": "code",
   "execution_count": null,
   "metadata": {},
   "outputs": [],
   "source": []
  }
 ],
 "metadata": {
  "kernelspec": {
   "display_name": "Python 3",
   "language": "python",
   "name": "python3"
  },
  "language_info": {
   "codemirror_mode": {
    "name": "ipython",
    "version": 3
   },
   "file_extension": ".py",
   "mimetype": "text/x-python",
   "name": "python",
   "nbconvert_exporter": "python",
   "pygments_lexer": "ipython3",
   "version": "3.7.3"
  }
 },
 "nbformat": 4,
 "nbformat_minor": 2
}
